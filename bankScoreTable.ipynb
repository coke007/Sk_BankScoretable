{
 "cells": [
  {
   "cell_type": "code",
   "execution_count": 57,
   "metadata": {},
   "outputs": [],
   "source": [
    "# 导库 获取数据\n",
    "import numpy as np\n",
    "import pandas as pd \n",
    "from sklearn.linear_model import LogisticRegression as LR "
   ]
  },
  {
   "cell_type": "code",
   "execution_count": 58,
   "metadata": {},
   "outputs": [],
   "source": [
    "data=pd.read_csv(\"rankingcard.csv\",index_col=0)"
   ]
  },
  {
   "cell_type": "code",
   "execution_count": 59,
   "metadata": {},
   "outputs": [
    {
     "data": {
      "text/plain": [
       "(150000, 11)"
      ]
     },
     "execution_count": 59,
     "metadata": {},
     "output_type": "execute_result"
    }
   ],
   "source": [
    "data.shape"
   ]
  },
  {
   "cell_type": "code",
   "execution_count": 60,
   "metadata": {},
   "outputs": [],
   "source": [
    "# 1.去除重复值\n",
    "data.drop_duplicates(inplace=True)\n",
    "data.index=range(data.shape[0])"
   ]
  },
  {
   "cell_type": "code",
   "execution_count": 61,
   "metadata": {},
   "outputs": [
    {
     "data": {
      "text/plain": [
       "(149391, 11)"
      ]
     },
     "execution_count": 61,
     "metadata": {},
     "output_type": "execute_result"
    }
   ],
   "source": [
    "data.shape"
   ]
  },
  {
   "cell_type": "code",
   "execution_count": 62,
   "metadata": {},
   "outputs": [
    {
     "name": "stdout",
     "output_type": "stream",
     "text": [
      "<class 'pandas.core.frame.DataFrame'>\n",
      "RangeIndex: 149391 entries, 0 to 149390\n",
      "Data columns (total 11 columns):\n",
      "SeriousDlqin2yrs                        149391 non-null int64\n",
      "RevolvingUtilizationOfUnsecuredLines    149391 non-null float64\n",
      "age                                     149391 non-null int64\n",
      "NumberOfTime30-59DaysPastDueNotWorse    149391 non-null int64\n",
      "DebtRatio                               149391 non-null float64\n",
      "MonthlyIncome                           120170 non-null float64\n",
      "NumberOfOpenCreditLinesAndLoans         149391 non-null int64\n",
      "NumberOfTimes90DaysLate                 149391 non-null int64\n",
      "NumberRealEstateLoansOrLines            149391 non-null int64\n",
      "NumberOfTime60-89DaysPastDueNotWorse    149391 non-null int64\n",
      "NumberOfDependents                      145563 non-null float64\n",
      "dtypes: float64(4), int64(7)\n",
      "memory usage: 12.5 MB\n"
     ]
    }
   ],
   "source": [
    "# 2.填补缺失值\n",
    "data.info()"
   ]
  },
  {
   "cell_type": "code",
   "execution_count": 70,
   "metadata": {},
   "outputs": [],
   "source": [
    "#可以观察缺失值NumberOfDependents和MonthlyIncome   \n",
    "#家属人数缺失值很少，可以删除或者用均值去取整来代替\n",
    "data[\"NumberOfDependents\"].fillna(int(data[\"NumberOfDependents\"].mean()),inplace=True)"
   ]
  },
  {
   "cell_type": "code",
   "execution_count": 74,
   "metadata": {},
   "outputs": [],
   "source": [
    "# 对于收入来说，收入是一个对信用评分来说很重要的因素，因此这个因素必须进行填补\n",
    "# 这里采用随机森林的方式对MonthlyIncome空值进行填补\n",
    "def fill__missing_rfr(x,y,to_fill):\n",
    "    \"\"\"\n",
    "    X：要填补的特征矩阵\n",
    "   y：完整的，没有缺失值的标签\n",
    "   to_fill：字符串，要填补的那一列的名称\n",
    "    \"\"\"\n",
    "    df=x.copy()\n",
    "    fill=df.loc[:,to_fill]\n",
    "    df=pd.concat([df.loc[:,df.columns!=to_fill],pd.DataFrame(y)],axis=1)\n",
    "    \n",
    "    #找出训练集和测试集\n",
    "    ytrain=fill[fill.notnull()]\n",
    "    ytest=fill[fill.isnull()]\n",
    "    xtrain=df.iloc[ytrain.index,:]\n",
    "    xtest=df.iloc[ytest.index,:]\n",
    "    \n",
    "    #用随机森林回归来填补缺失值\n",
    "    from sklearn.ensemble import RandomForestRegressor as rfr\n",
    "    rfr=rfr(n_estimators=100)\n",
    "    rfr=rfr.fit(xtrain,ytrain)\n",
    "    ypredict=rfr.predict(xtest)\n",
    "    \n",
    "    return ypredict\n",
    "    "
   ]
  },
  {
   "cell_type": "code",
   "execution_count": 75,
   "metadata": {},
   "outputs": [
    {
     "data": {
      "text/plain": [
       "(149391, 10)"
      ]
     },
     "execution_count": 75,
     "metadata": {},
     "output_type": "execute_result"
    }
   ],
   "source": [
    "# 创造函数参数，将参数导入函数，产出结果 \n",
    "x=data.iloc[:,1:]\n",
    "y=data[\"SeriousDlqin2yrs\"]\n",
    "x.shape"
   ]
  },
  {
   "cell_type": "code",
   "execution_count": 76,
   "metadata": {},
   "outputs": [],
   "source": [
    "#=====[TIME WARNING:1 min]=====#\n",
    "y_pred=fill__missing_rfr(x,y,\"MonthlyIncome\")"
   ]
  },
  {
   "cell_type": "code",
   "execution_count": 77,
   "metadata": {},
   "outputs": [],
   "source": [
    "data.loc[data.loc[:,\"MonthlyIncome\"].isnull(),\"MonthlyIncome\"]=y_pred"
   ]
  },
  {
   "cell_type": "code",
   "execution_count": 78,
   "metadata": {},
   "outputs": [
    {
     "data": {
      "text/html": [
       "<div>\n",
       "<style scoped>\n",
       "    .dataframe tbody tr th:only-of-type {\n",
       "        vertical-align: middle;\n",
       "    }\n",
       "\n",
       "    .dataframe tbody tr th {\n",
       "        vertical-align: top;\n",
       "    }\n",
       "\n",
       "    .dataframe thead th {\n",
       "        text-align: right;\n",
       "    }\n",
       "</style>\n",
       "<table border=\"1\" class=\"dataframe\">\n",
       "  <thead>\n",
       "    <tr style=\"text-align: right;\">\n",
       "      <th></th>\n",
       "      <th>count</th>\n",
       "      <th>mean</th>\n",
       "      <th>std</th>\n",
       "      <th>min</th>\n",
       "      <th>1%</th>\n",
       "      <th>10%</th>\n",
       "      <th>25%</th>\n",
       "      <th>50%</th>\n",
       "      <th>75%</th>\n",
       "      <th>90%</th>\n",
       "      <th>99%</th>\n",
       "      <th>max</th>\n",
       "    </tr>\n",
       "  </thead>\n",
       "  <tbody>\n",
       "    <tr>\n",
       "      <td>SeriousDlqin2yrs</td>\n",
       "      <td>149391.0</td>\n",
       "      <td>0.066999</td>\n",
       "      <td>0.250021</td>\n",
       "      <td>0.0</td>\n",
       "      <td>0.0</td>\n",
       "      <td>0.000000</td>\n",
       "      <td>0.000000</td>\n",
       "      <td>0.000000</td>\n",
       "      <td>0.000000</td>\n",
       "      <td>0.000000</td>\n",
       "      <td>1.000000</td>\n",
       "      <td>1.0</td>\n",
       "    </tr>\n",
       "    <tr>\n",
       "      <td>RevolvingUtilizationOfUnsecuredLines</td>\n",
       "      <td>149391.0</td>\n",
       "      <td>6.071087</td>\n",
       "      <td>250.263672</td>\n",
       "      <td>0.0</td>\n",
       "      <td>0.0</td>\n",
       "      <td>0.003199</td>\n",
       "      <td>0.030132</td>\n",
       "      <td>0.154235</td>\n",
       "      <td>0.556494</td>\n",
       "      <td>0.978007</td>\n",
       "      <td>1.093922</td>\n",
       "      <td>50708.0</td>\n",
       "    </tr>\n",
       "    <tr>\n",
       "      <td>age</td>\n",
       "      <td>149391.0</td>\n",
       "      <td>52.306237</td>\n",
       "      <td>14.725962</td>\n",
       "      <td>0.0</td>\n",
       "      <td>24.0</td>\n",
       "      <td>33.000000</td>\n",
       "      <td>41.000000</td>\n",
       "      <td>52.000000</td>\n",
       "      <td>63.000000</td>\n",
       "      <td>72.000000</td>\n",
       "      <td>87.000000</td>\n",
       "      <td>109.0</td>\n",
       "    </tr>\n",
       "    <tr>\n",
       "      <td>NumberOfTime30-59DaysPastDueNotWorse</td>\n",
       "      <td>149391.0</td>\n",
       "      <td>0.393886</td>\n",
       "      <td>3.852953</td>\n",
       "      <td>0.0</td>\n",
       "      <td>0.0</td>\n",
       "      <td>0.000000</td>\n",
       "      <td>0.000000</td>\n",
       "      <td>0.000000</td>\n",
       "      <td>0.000000</td>\n",
       "      <td>1.000000</td>\n",
       "      <td>4.000000</td>\n",
       "      <td>98.0</td>\n",
       "    </tr>\n",
       "    <tr>\n",
       "      <td>DebtRatio</td>\n",
       "      <td>149391.0</td>\n",
       "      <td>354.436740</td>\n",
       "      <td>2041.843455</td>\n",
       "      <td>0.0</td>\n",
       "      <td>0.0</td>\n",
       "      <td>0.034991</td>\n",
       "      <td>0.177441</td>\n",
       "      <td>0.368234</td>\n",
       "      <td>0.875279</td>\n",
       "      <td>1275.000000</td>\n",
       "      <td>4985.100000</td>\n",
       "      <td>329664.0</td>\n",
       "    </tr>\n",
       "    <tr>\n",
       "      <td>MonthlyIncome</td>\n",
       "      <td>149391.0</td>\n",
       "      <td>5422.349424</td>\n",
       "      <td>13234.290423</td>\n",
       "      <td>0.0</td>\n",
       "      <td>0.0</td>\n",
       "      <td>0.170000</td>\n",
       "      <td>1800.000000</td>\n",
       "      <td>4417.000000</td>\n",
       "      <td>7416.000000</td>\n",
       "      <td>10800.000000</td>\n",
       "      <td>23250.000000</td>\n",
       "      <td>3008750.0</td>\n",
       "    </tr>\n",
       "    <tr>\n",
       "      <td>NumberOfOpenCreditLinesAndLoans</td>\n",
       "      <td>149391.0</td>\n",
       "      <td>8.480892</td>\n",
       "      <td>5.136515</td>\n",
       "      <td>0.0</td>\n",
       "      <td>0.0</td>\n",
       "      <td>3.000000</td>\n",
       "      <td>5.000000</td>\n",
       "      <td>8.000000</td>\n",
       "      <td>11.000000</td>\n",
       "      <td>15.000000</td>\n",
       "      <td>24.000000</td>\n",
       "      <td>58.0</td>\n",
       "    </tr>\n",
       "    <tr>\n",
       "      <td>NumberOfTimes90DaysLate</td>\n",
       "      <td>149391.0</td>\n",
       "      <td>0.238120</td>\n",
       "      <td>3.826165</td>\n",
       "      <td>0.0</td>\n",
       "      <td>0.0</td>\n",
       "      <td>0.000000</td>\n",
       "      <td>0.000000</td>\n",
       "      <td>0.000000</td>\n",
       "      <td>0.000000</td>\n",
       "      <td>0.000000</td>\n",
       "      <td>3.000000</td>\n",
       "      <td>98.0</td>\n",
       "    </tr>\n",
       "    <tr>\n",
       "      <td>NumberRealEstateLoansOrLines</td>\n",
       "      <td>149391.0</td>\n",
       "      <td>1.022391</td>\n",
       "      <td>1.130196</td>\n",
       "      <td>0.0</td>\n",
       "      <td>0.0</td>\n",
       "      <td>0.000000</td>\n",
       "      <td>0.000000</td>\n",
       "      <td>1.000000</td>\n",
       "      <td>2.000000</td>\n",
       "      <td>2.000000</td>\n",
       "      <td>4.000000</td>\n",
       "      <td>54.0</td>\n",
       "    </tr>\n",
       "    <tr>\n",
       "      <td>NumberOfTime60-89DaysPastDueNotWorse</td>\n",
       "      <td>149391.0</td>\n",
       "      <td>0.212503</td>\n",
       "      <td>3.810523</td>\n",
       "      <td>0.0</td>\n",
       "      <td>0.0</td>\n",
       "      <td>0.000000</td>\n",
       "      <td>0.000000</td>\n",
       "      <td>0.000000</td>\n",
       "      <td>0.000000</td>\n",
       "      <td>0.000000</td>\n",
       "      <td>2.000000</td>\n",
       "      <td>98.0</td>\n",
       "    </tr>\n",
       "    <tr>\n",
       "      <td>NumberOfDependents</td>\n",
       "      <td>149391.0</td>\n",
       "      <td>0.740393</td>\n",
       "      <td>1.108272</td>\n",
       "      <td>0.0</td>\n",
       "      <td>0.0</td>\n",
       "      <td>0.000000</td>\n",
       "      <td>0.000000</td>\n",
       "      <td>0.000000</td>\n",
       "      <td>1.000000</td>\n",
       "      <td>2.000000</td>\n",
       "      <td>4.000000</td>\n",
       "      <td>20.0</td>\n",
       "    </tr>\n",
       "  </tbody>\n",
       "</table>\n",
       "</div>"
      ],
      "text/plain": [
       "                                         count         mean           std  ...           90%           99%        max\n",
       "SeriousDlqin2yrs                      149391.0     0.066999      0.250021  ...      0.000000      1.000000        1.0\n",
       "RevolvingUtilizationOfUnsecuredLines  149391.0     6.071087    250.263672  ...      0.978007      1.093922    50708.0\n",
       "age                                   149391.0    52.306237     14.725962  ...     72.000000     87.000000      109.0\n",
       "NumberOfTime30-59DaysPastDueNotWorse  149391.0     0.393886      3.852953  ...      1.000000      4.000000       98.0\n",
       "DebtRatio                             149391.0   354.436740   2041.843455  ...   1275.000000   4985.100000   329664.0\n",
       "MonthlyIncome                         149391.0  5422.349424  13234.290423  ...  10800.000000  23250.000000  3008750.0\n",
       "NumberOfOpenCreditLinesAndLoans       149391.0     8.480892      5.136515  ...     15.000000     24.000000       58.0\n",
       "NumberOfTimes90DaysLate               149391.0     0.238120      3.826165  ...      0.000000      3.000000       98.0\n",
       "NumberRealEstateLoansOrLines          149391.0     1.022391      1.130196  ...      2.000000      4.000000       54.0\n",
       "NumberOfTime60-89DaysPastDueNotWorse  149391.0     0.212503      3.810523  ...      0.000000      2.000000       98.0\n",
       "NumberOfDependents                    149391.0     0.740393      1.108272  ...      2.000000      4.000000       20.0\n",
       "\n",
       "[11 rows x 12 columns]"
      ]
     },
     "execution_count": 78,
     "metadata": {},
     "output_type": "execute_result"
    }
   ],
   "source": [
    "#描述性统计\n",
    "# data.describe()\n",
    "data.describe([0.01,0.1,0.25,.5,.75,.9,.99]).T"
   ]
  },
  {
   "cell_type": "code",
   "execution_count": 79,
   "metadata": {
    "scrolled": true
   },
   "outputs": [
    {
     "data": {
      "text/plain": [
       "1"
      ]
     },
     "execution_count": 79,
     "metadata": {},
     "output_type": "execute_result"
    }
   ],
   "source": [
    "# 3.去除异常值\n",
    "# 异常值一般被我们观察到，年龄值最小值居然是0，这不符合银行的业务需求\n",
    "(data[\"age\"]==0).sum()"
   ]
  },
  {
   "cell_type": "code",
   "execution_count": 80,
   "metadata": {},
   "outputs": [],
   "source": [
    "# 发现只有一个人年龄为0，可以判断这是录入失误造成的，可以当成是缺失值来处理\n",
    "data=data[data[\"age\"]!=0]"
   ]
  },
  {
   "cell_type": "code",
   "execution_count": 81,
   "metadata": {},
   "outputs": [
    {
     "data": {
      "text/plain": [
       "[SeriousDlqin2yrs                         0.0\n",
       " RevolvingUtilizationOfUnsecuredLines     0.0\n",
       " age                                     21.0\n",
       " NumberOfTime30-59DaysPastDueNotWorse     0.0\n",
       " DebtRatio                                0.0\n",
       " MonthlyIncome                            0.0\n",
       " NumberOfOpenCreditLinesAndLoans          0.0\n",
       " NumberOfTimes90DaysLate                  0.0\n",
       " NumberRealEstateLoansOrLines             0.0\n",
       " NumberOfTime60-89DaysPastDueNotWorse     0.0\n",
       " NumberOfDependents                       0.0\n",
       " dtype: float64, SeriousDlqin2yrs                              1.0\n",
       " RevolvingUtilizationOfUnsecuredLines      50708.0\n",
       " age                                         109.0\n",
       " NumberOfTime30-59DaysPastDueNotWorse         98.0\n",
       " DebtRatio                                329664.0\n",
       " MonthlyIncome                           3008750.0\n",
       " NumberOfOpenCreditLinesAndLoans              58.0\n",
       " NumberOfTimes90DaysLate                      98.0\n",
       " NumberRealEstateLoansOrLines                 54.0\n",
       " NumberOfTime60-89DaysPastDueNotWorse         98.0\n",
       " NumberOfDependents                           20.0\n",
       " dtype: float64]"
      ]
     },
     "execution_count": 81,
     "metadata": {},
     "output_type": "execute_result"
    }
   ],
   "source": [
    "[data.min(),data.max()]"
   ]
  },
  {
   "cell_type": "code",
   "execution_count": 82,
   "metadata": {},
   "outputs": [
    {
     "data": {
      "text/plain": [
       "225"
      ]
     },
     "execution_count": 82,
     "metadata": {},
     "output_type": "execute_result"
    }
   ],
   "source": [
    "# 可以发现预期不应该超过90 ，可是存在最大值98这样的异常值\n",
    "data.loc[data.loc[:,\"NumberOfTimes90DaysLate\"]>90,\"NumberOfTimes90DaysLate\"].count()"
   ]
  },
  {
   "cell_type": "code",
   "execution_count": 83,
   "metadata": {},
   "outputs": [],
   "source": [
    "# 删除这些异常值\n",
    "data=data[data.loc[:,\"NumberOfTimes90DaysLate\"]<90]"
   ]
  },
  {
   "cell_type": "code",
   "execution_count": 84,
   "metadata": {},
   "outputs": [
    {
     "name": "stdout",
     "output_type": "stream",
     "text": [
      "<class 'pandas.core.frame.DataFrame'>\n",
      "RangeIndex: 149165 entries, 0 to 149164\n",
      "Data columns (total 11 columns):\n",
      "SeriousDlqin2yrs                        149165 non-null int64\n",
      "RevolvingUtilizationOfUnsecuredLines    149165 non-null float64\n",
      "age                                     149165 non-null int64\n",
      "NumberOfTime30-59DaysPastDueNotWorse    149165 non-null int64\n",
      "DebtRatio                               149165 non-null float64\n",
      "MonthlyIncome                           149165 non-null float64\n",
      "NumberOfOpenCreditLinesAndLoans         149165 non-null int64\n",
      "NumberOfTimes90DaysLate                 149165 non-null int64\n",
      "NumberRealEstateLoansOrLines            149165 non-null int64\n",
      "NumberOfTime60-89DaysPastDueNotWorse    149165 non-null int64\n",
      "NumberOfDependents                      149165 non-null float64\n",
      "dtypes: float64(4), int64(7)\n",
      "memory usage: 12.5 MB\n"
     ]
    }
   ],
   "source": [
    "data.index=range(data.shape[0])\n",
    "data.info()"
   ]
  },
  {
   "cell_type": "code",
   "execution_count": 85,
   "metadata": {},
   "outputs": [
    {
     "name": "stdout",
     "output_type": "stream",
     "text": [
      "样本数：149165;1占6.62%;0占93.38%\n"
     ]
    }
   ],
   "source": [
    "# 4.这里不统一量纲 也不标准化数据分布 因为最终目的是给业务人员\n",
    "# 5.样本不均衡问题 \n",
    "\n",
    "x=data.iloc[:,1:]\n",
    "y=data.iloc[:,0]\n",
    "y.value_counts()\n",
    "\n",
    "n_sample=x.shape[0]\n",
    "n_1_sample=y.value_counts()[1]\n",
    "n_0_sample=y.value_counts()[0]\n",
    "\n",
    "print(\"样本数：{};1占{:.2%};0占{:.2%}\".format(n_sample,n_1_sample/n_sample,n_0_sample/n_sample))"
   ]
  },
  {
   "cell_type": "code",
   "execution_count": 86,
   "metadata": {},
   "outputs": [
    {
     "name": "stdout",
     "output_type": "stream",
     "text": [
      "样本个数:278584,1占50.00%;0占50.00%\n"
     ]
    }
   ],
   "source": [
    "# 样本严重不平衡\n",
    "# 但是我们通常需要捕捉少违约的人数\n",
    "import imblearn\n",
    "from imblearn.over_sampling import SMOTE\n",
    "\n",
    "sm=SMOTE(random_state=42)\n",
    "x,y=sm.fit_sample(x,y)\n",
    "\n",
    "n_sample_=x.shape[0]\n",
    "#这里[0]、[1]表示index\n",
    "n_1_sample=pd.Series(y).value_counts()[1]\n",
    "n_0_sample=pd.Series(y).value_counts()[0]\n",
    "\n",
    "print('样本个数:{},1占{:.2%};0占{:.2%}'.format(n_sample_,n_1_sample/n_sample_,n_0_sample/n_sample_))\n"
   ]
  },
  {
   "cell_type": "code",
   "execution_count": 88,
   "metadata": {},
   "outputs": [],
   "source": [
    "# 6.分训练集和测试集\n",
    "from sklearn.model_selection import train_test_split\n",
    "x=pd.DataFrame(x)\n",
    "y=pd.DataFrame(y)\n",
    "\n",
    "x_train,x_vali,y_train,y_vali=train_test_split(x,y,test_size=0.3,random_state=420)\n",
    "model_data=pd.concat([y_train,x_train],axis=1)\n",
    "model_data.index=range(model_data.shape[0])\n",
    "#model_data.columns=data.columns\n",
    "\n",
    "vali_data=pd.concat([y_vali,x_vali],axis=1)\n",
    "vali_data.index=range(vali_data.shape[0])\n",
    "#vali_data.columns=data.columns\n",
    "\n",
    "model_data.to_csv(\"model_data.csv\")\n",
    "vali_data.to_csv(\"vali_data.csv\")"
   ]
  },
  {
   "cell_type": "code",
   "execution_count": 89,
   "metadata": {},
   "outputs": [],
   "source": [
    "# 7.分箱\n",
    "# 返回qcut分箱范围、updown为分箱的边界值\n",
    "model_data[\"qcut\"],updown=pd.qcut(model_data[\"age\"],retbins=True,q=20)"
   ]
  },
  {
   "cell_type": "code",
   "execution_count": 92,
   "metadata": {
    "scrolled": true
   },
   "outputs": [
    {
     "data": {
      "text/plain": [
       "0         (52.0, 54.0]\n",
       "1         (61.0, 64.0]\n",
       "2         (36.0, 39.0]\n",
       "3         (68.0, 74.0]\n",
       "4         (52.0, 54.0]\n",
       "              ...     \n",
       "195003    (31.0, 34.0]\n",
       "195004    (48.0, 50.0]\n",
       "195005    (45.0, 46.0]\n",
       "195006    (61.0, 64.0]\n",
       "195007    (52.0, 54.0]\n",
       "Name: qcut, Length: 195008, dtype: category\n",
       "Categories (20, interval[float64]): [(20.999, 28.0] < (28.0, 31.0] < (31.0, 34.0] < (34.0, 36.0] ... (61.0, 64.0] < (64.0, 68.0] < (68.0, 74.0] < (74.0, 107.0]]"
      ]
     },
     "execution_count": 92,
     "metadata": {},
     "output_type": "execute_result"
    }
   ],
   "source": [
    "model_data[\"qcut\"]"
   ]
  },
  {
   "cell_type": "code",
   "execution_count": 93,
   "metadata": {},
   "outputs": [
    {
     "data": {
      "text/plain": [
       "array([ 21.,  28.,  31.,  34.,  36.,  39.,  41.,  43.,  45.,  46.,  48.,\n",
       "        50.,  52.,  54.,  56.,  58.,  61.,  64.,  68.,  74., 107.])"
      ]
     },
     "execution_count": 93,
     "metadata": {},
     "output_type": "execute_result"
    }
   ],
   "source": [
    "updown"
   ]
  },
  {
   "cell_type": "code",
   "execution_count": 96,
   "metadata": {},
   "outputs": [
    {
     "data": {
      "text/plain": [
       "(195008, 12)"
      ]
     },
     "execution_count": 96,
     "metadata": {},
     "output_type": "execute_result"
    }
   ],
   "source": [
    "model_data.shape"
   ]
  },
  {
   "cell_type": "code",
   "execution_count": 100,
   "metadata": {},
   "outputs": [],
   "source": [
    "# 统计每个分箱中0和1的个数\n",
    "# 这里使用了数据透视表的功能groupby\n",
    "coount_y0=model_data[model_data[\"SeriousDlqin2yrs\"]==0].groupby(\"qcut\").count()[\"SeriousDlqin2yrs\"]\n",
    "coount_y1=model_data[model_data[\"SeriousDlqin2yrs\"]==1].groupby(\"qcut\").count()[\"SeriousDlqin2yrs\"]"
   ]
  },
  {
   "cell_type": "code",
   "execution_count": 102,
   "metadata": {},
   "outputs": [
    {
     "data": {
      "text/plain": [
       "(qcut\n",
       " (20.999, 28.0]    4243\n",
       " (28.0, 31.0]      3571\n",
       " (31.0, 34.0]      4075\n",
       " (34.0, 36.0]      2908\n",
       " (36.0, 39.0]      5182\n",
       " (39.0, 41.0]      3956\n",
       " (41.0, 43.0]      4002\n",
       " (43.0, 45.0]      4389\n",
       " (45.0, 46.0]      2419\n",
       " (46.0, 48.0]      4813\n",
       " (48.0, 50.0]      4900\n",
       " (50.0, 52.0]      4728\n",
       " (52.0, 54.0]      4681\n",
       " (54.0, 56.0]      4677\n",
       " (56.0, 58.0]      4483\n",
       " (58.0, 61.0]      6583\n",
       " (61.0, 64.0]      6968\n",
       " (64.0, 68.0]      6623\n",
       " (68.0, 74.0]      6753\n",
       " (74.0, 107.0]     7737\n",
       " Name: SeriousDlqin2yrs, dtype: int64, qcut\n",
       " (20.999, 28.0]    7552\n",
       " (28.0, 31.0]      5945\n",
       " (31.0, 34.0]      6821\n",
       " (34.0, 36.0]      4586\n",
       " (36.0, 39.0]      7446\n",
       " (39.0, 41.0]      5836\n",
       " (41.0, 43.0]      5697\n",
       " (43.0, 45.0]      5953\n",
       " (45.0, 46.0]      3268\n",
       " (46.0, 48.0]      6160\n",
       " (48.0, 50.0]      6222\n",
       " (50.0, 52.0]      5805\n",
       " (52.0, 54.0]      5014\n",
       " (54.0, 56.0]      4025\n",
       " (56.0, 58.0]      3406\n",
       " (58.0, 61.0]      4829\n",
       " (61.0, 64.0]      3196\n",
       " (64.0, 68.0]      2273\n",
       " (68.0, 74.0]      1915\n",
       " (74.0, 107.0]     1368\n",
       " Name: SeriousDlqin2yrs, dtype: int64)"
      ]
     },
     "execution_count": 102,
     "metadata": {},
     "output_type": "execute_result"
    }
   ],
   "source": [
    "coount_y0,coount_y1"
   ]
  },
  {
   "cell_type": "code",
   "execution_count": 103,
   "metadata": {},
   "outputs": [],
   "source": [
    "num_bins=[*zip(updown,updown[1:],coount_y0,coount_y1)]"
   ]
  },
  {
   "cell_type": "code",
   "execution_count": 104,
   "metadata": {},
   "outputs": [
    {
     "data": {
      "text/plain": [
       "[(21.0, 28.0, 4243, 7552),\n",
       " (28.0, 31.0, 3571, 5945),\n",
       " (31.0, 34.0, 4075, 6821),\n",
       " (34.0, 36.0, 2908, 4586),\n",
       " (36.0, 39.0, 5182, 7446),\n",
       " (39.0, 41.0, 3956, 5836),\n",
       " (41.0, 43.0, 4002, 5697),\n",
       " (43.0, 45.0, 4389, 5953),\n",
       " (45.0, 46.0, 2419, 3268),\n",
       " (46.0, 48.0, 4813, 6160),\n",
       " (48.0, 50.0, 4900, 6222),\n",
       " (50.0, 52.0, 4728, 5805),\n",
       " (52.0, 54.0, 4681, 5014),\n",
       " (54.0, 56.0, 4677, 4025),\n",
       " (56.0, 58.0, 4483, 3406),\n",
       " (58.0, 61.0, 6583, 4829),\n",
       " (61.0, 64.0, 6968, 3196),\n",
       " (64.0, 68.0, 6623, 2273),\n",
       " (68.0, 74.0, 6753, 1915),\n",
       " (74.0, 107.0, 7737, 1368)]"
      ]
     },
     "execution_count": 104,
     "metadata": {},
     "output_type": "execute_result"
    }
   ],
   "source": [
    "num_bins"
   ]
  },
  {
   "cell_type": "code",
   "execution_count": 107,
   "metadata": {},
   "outputs": [],
   "source": [
    "for i in range(20):\n",
    "    #如果第一个组没有包含正样本或负样本，向后合并\n",
    "    if 0 in num_bins[0][2:]:\n",
    "        num_bins[0:2] = [(\n",
    "            num_bins[0][0],\n",
    "            num_bins[1][1],\n",
    "            num_bins[0][2]+num_bins[1][2],\n",
    "            num_bins[0][3]+num_bins[1][3])]\n",
    "        continue\n",
    "    for i in range(len(num_bins)):\n",
    "        if 0 in num_bins[i][2:]:\n",
    "            num_bins[i-1:i+1] = [(\n",
    "                num_bins[i-1][0],\n",
    "                num_bins[i][1],\n",
    "                num_bins[i-1][2]+num_bins[i][2],\n",
    "                num_bins[i-1][3]+num_bins[i][3])]\n",
    "        break\n",
    "        #如果对第一组和对后面所有组的判断中，都没有进入if去合并，则提前结束所有的循环\n",
    "    else:\n",
    "        break"
   ]
  },
  {
   "cell_type": "code",
   "execution_count": 108,
   "metadata": {},
   "outputs": [],
   "source": [
    "# 定义WOE和IV函数\n",
    "def get_woe(num_bins):\n",
    "    columns=[\"min\",\"max\",\"count_0\",\"count_1\"]\n",
    "    df=pd.DataFrame(num_bins,columns=columns)\n",
    "    \n",
    "    df[\"total\"]=df.count_0+df.count_1\n",
    "    df[\"percentage\"]=df.total/df.total.sum()\n",
    "    df[\"bad_rate\"]=df.count_0/df.total\n",
    "    df[\"good%\"]=df.count_0/df.count_0.sum()\n",
    "    df[\"bad%\"]=df.count_1/df.count_1.sum()\n",
    "    df[\"woe\"]=np.log(df[\"good%\"]/df[\"bad%\"])\n",
    "    return df\n",
    "\n",
    "def get_iv(df):\n",
    "    rate=df[\"good%\"]-df[\"bad%\"]\n",
    "    iv=np.sum(rate*df.woe)\n",
    "    return iv"
   ]
  },
  {
   "cell_type": "code",
   "execution_count": 110,
   "metadata": {},
   "outputs": [
    {
     "data": {
      "text/plain": [
       "[(21.0, 28.0, 4243, 7552),\n",
       " (28.0, 31.0, 3571, 5945),\n",
       " (31.0, 34.0, 4075, 6821),\n",
       " (34.0, 36.0, 2908, 4586),\n",
       " (36.0, 39.0, 5182, 7446),\n",
       " (39.0, 41.0, 3956, 5836),\n",
       " (41.0, 43.0, 4002, 5697),\n",
       " (43.0, 45.0, 4389, 5953),\n",
       " (45.0, 46.0, 2419, 3268),\n",
       " (46.0, 48.0, 4813, 6160),\n",
       " (48.0, 50.0, 4900, 6222),\n",
       " (50.0, 52.0, 4728, 5805),\n",
       " (52.0, 54.0, 4681, 5014),\n",
       " (54.0, 56.0, 4677, 4025),\n",
       " (56.0, 58.0, 4483, 3406),\n",
       " (58.0, 61.0, 6583, 4829),\n",
       " (61.0, 64.0, 6968, 3196),\n",
       " (64.0, 68.0, 6623, 2273),\n",
       " (68.0, 74.0, 6753, 1915),\n",
       " (74.0, 107.0, 7737, 1368)]"
      ]
     },
     "execution_count": 110,
     "metadata": {},
     "output_type": "execute_result"
    }
   ],
   "source": [
    "num_bins"
   ]
  },
  {
   "cell_type": "code",
   "execution_count": 112,
   "metadata": {},
   "outputs": [
    {
     "data": {
      "image/png": "[encoded data removed]",
      "text/plain": [
       "<Figure size 432x288 with 1 Axes>"
      ]
     },
     "metadata": {
      "needs_background": "light"
     },
     "output_type": "display_data"
    }
   ],
   "source": [
    "num_bins_=num_bins.copy()\n",
    "\n",
    "import matplotlib.pyplot as plt\n",
    "import scipy\n",
    "\n",
    "IV=[]\n",
    "axisx=[]\n",
    "\n",
    "while len(num_bins_)>2:\n",
    "    pvs=[]\n",
    "    # 邻邻相比\n",
    "    for i in range(len(num_bins_)-1):\n",
    "        x1=num_bins_[i][2:]\n",
    "        x2=num_bins_[i+1][2:]\n",
    "        pv=scipy.stats.chi2_contingency([x1,x2])[1]\n",
    "        pvs.append(pv)\n",
    "    \n",
    "    i=pvs.index(max(pvs))\n",
    "    num_bins_[i:i+2]=[(num_bins_[i][0],\n",
    "                    num_bins_[i+1][1],\n",
    "                      num_bins_[i][2]+num_bins_[i+1][2],\n",
    "                      num_bins_[i][3]+num_bins_[i+1][3])]\n",
    "    bins_df=get_woe(num_bins_)\n",
    "    axisx.append(len(num_bins_))\n",
    "    IV.append(get_iv(bins_df))\n",
    "\n",
    "plt.figure()\n",
    "plt.plot(axisx,IV)\n",
    "plt.xticks(axisx)\n",
    "plt.xlabel(\"num of box\")\n",
    "plt.ylabel(\"IV\")\n",
    "plt.show()"
   ]
  },
  {
   "cell_type": "code",
   "execution_count": 120,
   "metadata": {},
   "outputs": [
    {
     "data": {
      "text/html": [
       "<div>\n",
       "<style scoped>\n",
       "    .dataframe tbody tr th:only-of-type {\n",
       "        vertical-align: middle;\n",
       "    }\n",
       "\n",
       "    .dataframe tbody tr th {\n",
       "        vertical-align: top;\n",
       "    }\n",
       "\n",
       "    .dataframe thead th {\n",
       "        text-align: right;\n",
       "    }\n",
       "</style>\n",
       "<table border=\"1\" class=\"dataframe\">\n",
       "  <thead>\n",
       "    <tr style=\"text-align: right;\">\n",
       "      <th></th>\n",
       "      <th>min</th>\n",
       "      <th>max</th>\n",
       "      <th>count_0</th>\n",
       "      <th>count_1</th>\n",
       "      <th>total</th>\n",
       "      <th>percentage</th>\n",
       "      <th>bad_rate</th>\n",
       "      <th>good%</th>\n",
       "      <th>bad%</th>\n",
       "      <th>woe</th>\n",
       "    </tr>\n",
       "  </thead>\n",
       "  <tbody>\n",
       "    <tr>\n",
       "      <td>0</td>\n",
       "      <td>21.0</td>\n",
       "      <td>52.0</td>\n",
       "      <td>49186</td>\n",
       "      <td>46440</td>\n",
       "      <td>95626</td>\n",
       "      <td>0.506775</td>\n",
       "      <td>0.514358</td>\n",
       "      <td>0.503485</td>\n",
       "      <td>0.510307</td>\n",
       "      <td>-0.013458</td>\n",
       "    </tr>\n",
       "    <tr>\n",
       "      <td>1</td>\n",
       "      <td>52.0</td>\n",
       "      <td>61.0</td>\n",
       "      <td>20424</td>\n",
       "      <td>38632</td>\n",
       "      <td>59056</td>\n",
       "      <td>0.312971</td>\n",
       "      <td>0.345841</td>\n",
       "      <td>0.209067</td>\n",
       "      <td>0.424509</td>\n",
       "      <td>-0.708276</td>\n",
       "    </tr>\n",
       "    <tr>\n",
       "      <td>2</td>\n",
       "      <td>61.0</td>\n",
       "      <td>64.0</td>\n",
       "      <td>6968</td>\n",
       "      <td>3196</td>\n",
       "      <td>10164</td>\n",
       "      <td>0.053865</td>\n",
       "      <td>0.685557</td>\n",
       "      <td>0.071327</td>\n",
       "      <td>0.035119</td>\n",
       "      <td>0.708522</td>\n",
       "    </tr>\n",
       "    <tr>\n",
       "      <td>3</td>\n",
       "      <td>64.0</td>\n",
       "      <td>107.0</td>\n",
       "      <td>21113</td>\n",
       "      <td>2736</td>\n",
       "      <td>23849</td>\n",
       "      <td>0.126389</td>\n",
       "      <td>0.885278</td>\n",
       "      <td>0.216120</td>\n",
       "      <td>0.030065</td>\n",
       "      <td>1.972486</td>\n",
       "    </tr>\n",
       "  </tbody>\n",
       "</table>\n",
       "</div>"
      ],
      "text/plain": [
       "    min    max  count_0  count_1  total  percentage  bad_rate     good%      bad%       woe\n",
       "0  21.0   52.0    49186    46440  95626    0.506775  0.514358  0.503485  0.510307 -0.013458\n",
       "1  52.0   61.0    20424    38632  59056    0.312971  0.345841  0.209067  0.424509 -0.708276\n",
       "2  61.0   64.0     6968     3196  10164    0.053865  0.685557  0.071327  0.035119  0.708522\n",
       "3  64.0  107.0    21113     2736  23849    0.126389  0.885278  0.216120  0.030065  1.972486"
      ]
     },
     "execution_count": 120,
     "metadata": {},
     "output_type": "execute_result"
    }
   ],
   "source": [
    "# 将合并箱体的部分定义为函数，并实现分箱\n",
    "def get_bin(num_bins_,n):\n",
    "    while len(num_bins_)>n:\n",
    "        pvs=[]\n",
    "        for i in range(len(num_bins_)-1):\n",
    "            x1=num_bins_[i][2:]\n",
    "            x2=num_bins_[i+1][2:]\n",
    "            pv=scipy.stats.chi2_contingency([x1,x2])[1]\n",
    "            pvs.append(pv)\n",
    "        i=pvs.index(max(pvs))\n",
    "        num_bins_[i:i+2]=[(num_bins_[i][0],\n",
    "                          num_bins_[i+1][1],\n",
    "                          num_bins_[i][2]+num_bins_[i+1][2],\n",
    "                          num_bins_[i+1][3]+num_bins_[i+1][3])]\n",
    "    return num_bins_\n",
    "afterbins=get_bin(num_bins,4)\n",
    "afterbins\n",
    "bins_df=get_woe(num_bins)\n",
    "bins_df\n",
    "    \n",
    "            "
   ]
  },
  {
   "cell_type": "code",
   "execution_count": 121,
   "metadata": {},
   "outputs": [],
   "source": [
    "def graphforbestbin(DF, X, Y, n=5,q=20,graph=True):\n",
    "    '''\n",
    "    自动最优分箱函数，基于卡方检验的分箱\n",
    "\n",
    "    参数：\n",
    "    DF: 需要输入的数据\n",
    "    X: 需要分箱的列名\n",
    "    Y: 分箱数据对应的标签 Y 列名\n",
    "    n: 保留分箱个数\n",
    "    q: 初始分箱的个数\n",
    "    graph: 是否要画出IV图像\n",
    "\n",
    "    区间为前开后闭 (]\n",
    "\n",
    "    '''\n",
    "    \n",
    "    DF = DF[[X,Y]].copy()\n",
    "\n",
    "    DF[\"qcut\"],bins = pd.qcut(DF[X], retbins=True, q=q,duplicates=\"drop\")\n",
    "    coount_y0 = DF.loc[DF[Y]==0].groupby(by=\"qcut\").count()[Y]\n",
    "    coount_y1 = DF.loc[DF[Y]==1].groupby(by=\"qcut\").count()[Y]\n",
    "    num_bins = [*zip(bins,bins[1:],coount_y0,coount_y1)]\n",
    "\n",
    "    for i in range(q):\n",
    "        if 0 in num_bins[0][2:]:\n",
    "            num_bins[0:2] = [(\n",
    "                num_bins[0][0],\n",
    "                num_bins[1][1],\n",
    "                num_bins[0][2]+num_bins[1][2],\n",
    "                num_bins[0][3]+num_bins[1][3])]\n",
    "            continue\n",
    "\n",
    "        for i in range(len(num_bins)):\n",
    "            if 0 in num_bins[i][2:]:\n",
    "                num_bins[i-1:i+1] = [(\n",
    "                    num_bins[i-1][0],\n",
    "                    num_bins[i][1],\n",
    "                    num_bins[i-1][2]+num_bins[i][2],\n",
    "                    num_bins[i-1][3]+num_bins[i][3])]\n",
    "                break\n",
    "        else:\n",
    "            break\n",
    "\n",
    "    def get_woe(num_bins):\n",
    "        columns = [\"min\",\"max\",\"count_0\",\"count_1\"]\n",
    "        df = pd.DataFrame(num_bins,columns=columns)\n",
    "        df[\"total\"] = df.count_0 + df.count_1\n",
    "        df[\"percentage\"] = df.total / df.total.sum()\n",
    "        df[\"bad_rate\"] = df.count_1 / df.total\n",
    "        df[\"good%\"] = df.count_0/df.count_0.sum()\n",
    "        df[\"bad%\"] = df.count_1/df.count_1.sum()\n",
    "        df[\"woe\"] = np.log(df[\"good%\"] / df[\"bad%\"])\n",
    "        return df\n",
    "\n",
    "    def get_iv(df):\n",
    "        rate = df[\"good%\"] - df[\"bad%\"]\n",
    "        iv = np.sum(rate * df.woe)\n",
    "        return iv\n",
    "\n",
    "    IV = []\n",
    "    axisx = []\n",
    "    while len(num_bins) > n:\n",
    "        pvs = []\n",
    "        for i in range(len(num_bins)-1):\n",
    "            x1 = num_bins[i][2:]\n",
    "            x2 = num_bins[i+1][2:]\n",
    "            pv = scipy.stats.chi2_contingency([x1,x2])[1]\n",
    "            pvs.append(pv)\n",
    "\n",
    "        i = pvs.index(max(pvs))\n",
    "        num_bins[i:i+2] = [(\n",
    "            num_bins[i][0],\n",
    "            num_bins[i+1][1],\n",
    "            num_bins[i][2]+num_bins[i+1][2],\n",
    "            num_bins[i][3]+num_bins[i+1][3])]\n",
    "\n",
    "        bins_df = pd.DataFrame(get_woe(num_bins))\n",
    "        axisx.append(len(num_bins))\n",
    "        IV.append(get_iv(bins_df))\n",
    "        \n",
    "    if graph:\n",
    "        plt.figure()\n",
    "        plt.plot(axisx,IV)\n",
    "        plt.xticks(axisx)\n",
    "        plt.xlabel(\"number of box\")\n",
    "        plt.ylabel(\"IV\")\n",
    "        plt.show()\n",
    "    return bins_df"
   ]
  },
  {
   "cell_type": "code",
   "execution_count": null,
   "metadata": {},
   "outputs": [],
   "source": []
  }
 ],
 "metadata": {
  "kernelspec": {
   "display_name": "Python 3",
   "language": "python",
   "name": "python3"
  },
  "language_info": {
   "codemirror_mode": {
    "name": "ipython",
    "version": 3
   },
   "file_extension": ".py",
   "mimetype": "text/x-python",
   "name": "python",
   "nbconvert_exporter": "python",
   "pygments_lexer": "ipython3",
   "version": "3.7.4"
  }
 },
 "nbformat": 4,
 "nbformat_minor": 2
}
